{
 "cells": [
  {
   "cell_type": "code",
   "execution_count": 1,
   "id": "0f41c183-8bf2-4217-b180-cd10f6bbd683",
   "metadata": {},
   "outputs": [
    {
     "name": "stderr",
     "output_type": "stream",
     "text": [
      "[nltk_data] Downloading package punkt to\n",
      "[nltk_data]     C:\\Users\\eren\\AppData\\Roaming\\nltk_data...\n",
      "[nltk_data]   Package punkt is already up-to-date!\n"
     ]
    },
    {
     "data": {
      "text/plain": [
       "True"
      ]
     },
     "execution_count": 1,
     "metadata": {},
     "output_type": "execute_result"
    }
   ],
   "source": [
    "import pandas as pd\n",
    "import re\n",
    "import numpy as np\n",
    "import matplotlib.pyplot as plt\n",
    "from collections import Counter\n",
    "import nltk\n",
    "\n",
    "nltk.download('punkt')"
   ]
  },
  {
   "cell_type": "code",
   "execution_count": 5,
   "id": "82747c75-8ea7-4648-a575-70431cb56a44",
   "metadata": {},
   "outputs": [],
   "source": [
    "df = pd.read_csv(\"veri_5k.csv\", header=None, names=[\"review\"])"
   ]
  },
  {
   "cell_type": "code",
   "execution_count": 7,
   "id": "c8ef4854-768e-496b-b2ac-7b6c50ca20f5",
   "metadata": {},
   "outputs": [
    {
     "data": {
      "text/html": [
       "<div>\n",
       "<style scoped>\n",
       "    .dataframe tbody tr th:only-of-type {\n",
       "        vertical-align: middle;\n",
       "    }\n",
       "\n",
       "    .dataframe tbody tr th {\n",
       "        vertical-align: top;\n",
       "    }\n",
       "\n",
       "    .dataframe thead th {\n",
       "        text-align: right;\n",
       "    }\n",
       "</style>\n",
       "<table border=\"1\" class=\"dataframe\">\n",
       "  <thead>\n",
       "    <tr style=\"text-align: right;\">\n",
       "      <th></th>\n",
       "      <th>review</th>\n",
       "    </tr>\n",
       "  </thead>\n",
       "  <tbody>\n",
       "    <tr>\n",
       "      <th>review</th>\n",
       "      <td>game_name</td>\n",
       "    </tr>\n",
       "    <tr>\n",
       "      <th>2023 So Elden Ring is my first souls-like game that i have ever gotten 100% achievements...AND IT WAS AMAZING!!! this is the best game i have ever played and i loved every minute of playing it! the story the world the characters I LOVED ALL OF IT! i felt like a kid in a candyshop except the storeowner and everyone in the shop is trying to kill me as i keep dodging them trying to steal candy for myself giggling wildly to myself as i have gone mad from being touched by a giant burned and smoldering hand that only has three fingers, but hey at least i get some awesome looking eyes! so yeah i can't wait for the dlc to come out! this game get's a golden 10/10 from me!</th>\n",
       "      <td>ELDEN RING</td>\n",
       "    </tr>\n",
       "    <tr>\n",
       "      <th>Blood, Guts, Friends what more can a Guy ask for Really.</th>\n",
       "      <td>Warhammer 40,000: Space Marine 2</td>\n",
       "    </tr>\n",
       "    <tr>\n",
       "      <th>2014 One of the best game which i have ever played :'D</th>\n",
       "      <td>Counter-Strike 2</td>\n",
       "    </tr>\n",
       "    <tr>\n",
       "      <th>FOR THE EMPEROR</th>\n",
       "      <td>Warhammer 40,000: Space Marine 2</td>\n",
       "    </tr>\n",
       "    <tr>\n",
       "      <th>...</th>\n",
       "      <td>...</td>\n",
       "    </tr>\n",
       "    <tr>\n",
       "      <th>Game of the year.</th>\n",
       "      <td>Black Myth: Wukong</td>\n",
       "    </tr>\n",
       "    <tr>\n",
       "      <th>*Black Myth: Wukong* is nothing short of a masterpiece in the action RPG genre. From the moment you step into its world, you're captivated by the stunning visuals that bring ancient Chinese mythology to life in ways rarely seen in gaming. The combat is incredibly fluid and satisfying, demanding both strategy and skill, making every battle feel like an epic encounter.</th>\n",
       "      <td>Black Myth: Wukong</td>\n",
       "    </tr>\n",
       "    <tr>\n",
       "      <th>I liked black myth: Wukong for the Gameplay, the story telling, and the enrichment and engagement into Chinese culture.</th>\n",
       "      <td>Black Myth: Wukong</td>\n",
       "    </tr>\n",
       "    <tr>\n",
       "      <th>2020 Prime is still bad it has many cheater</th>\n",
       "      <td>Counter-Strike 2</td>\n",
       "    </tr>\n",
       "    <tr>\n",
       "      <th>2022 The real Elden ring was the friendships we made along the way</th>\n",
       "      <td>ELDEN RING</td>\n",
       "    </tr>\n",
       "  </tbody>\n",
       "</table>\n",
       "<p>5001 rows × 1 columns</p>\n",
       "</div>"
      ],
      "text/plain": [
       "                                                                              review\n",
       "review                                                                     game_name\n",
       "2023 So Elden Ring is my first souls-like game ...                        ELDEN RING\n",
       "Blood, Guts, Friends what more can a Guy ask fo...  Warhammer 40,000: Space Marine 2\n",
       "2014 One of the best game which i have ever pla...                  Counter-Strike 2\n",
       "FOR THE EMPEROR                                     Warhammer 40,000: Space Marine 2\n",
       "...                                                                              ...\n",
       "Game of the year.                                                 Black Myth: Wukong\n",
       "*Black Myth: Wukong* is nothing short of a mast...                Black Myth: Wukong\n",
       "I liked black myth: Wukong for the Gameplay, th...                Black Myth: Wukong\n",
       "2020 Prime is still bad it has many cheater                         Counter-Strike 2\n",
       "2022 The real Elden ring was the friendships we...                        ELDEN RING\n",
       "\n",
       "[5001 rows x 1 columns]"
      ]
     },
     "execution_count": 7,
     "metadata": {},
     "output_type": "execute_result"
    }
   ],
   "source": [
    "df"
   ]
  },
  {
   "cell_type": "code",
   "execution_count": 9,
   "id": "ff3e8bb1-444e-401d-8b8f-a3375afaf80e",
   "metadata": {},
   "outputs": [],
   "source": [
    "def zipf_analysis(text_column, num_words=50):\n",
    "    # Geçersiz ve boş değerleri temizle\n",
    "    cleaned_texts = text_column.dropna().astype(str)\n",
    "\n",
    "    if cleaned_texts.empty:\n",
    "        print(\"Uyarı: Metin verisi boş. Analiz yapılamaz.\")\n",
    "        return\n",
    "\n",
    "    # Metinleri birleştir ve temizle\n",
    "    text = ' '.join(cleaned_texts).lower()\n",
    "    text = re.sub(r'[^\\w\\s]', '', text)\n",
    "\n",
    "    # Tokenizasyon\n",
    "    tokens = nltk.word_tokenize(text)\n",
    "    tokens = [token for token in tokens if token.isalpha()]\n",
    "\n",
    "    if not tokens:\n",
    "        print(\"Uyarı: Temizleme sonrası analiz yapılacak kelime kalmadı.\")\n",
    "        return\n",
    "\n",
    "    # Kelime sıklığı\n",
    "    word_counts = Counter(tokens)\n",
    "    most_common_words = word_counts.most_common(num_words)\n",
    "\n",
    "    # Sıra ve sıklık verileri\n",
    "    ranks = np.arange(1, len(most_common_words) + 1)\n",
    "    frequencies = [count for word, count in most_common_words]\n",
    "\n",
    "    # Grafik\n",
    "    plt.figure(figsize=(10, 6))\n",
    "    plt.loglog(ranks, frequencies, marker='o')\n",
    "    plt.xlabel('Kelime Sırası (log)')\n",
    "    plt.ylabel('Kelime Sıklığı (log)')\n",
    "    plt.title('Zipf Yasası Analizi (Ham Veri)')\n",
    "    plt.grid(True)\n",
    "    plt.show()\n",
    "\n",
    "    # Bilgi çıktısı\n",
    "    print(f\"Toplam kelime sayısı: {len(tokens)}\")\n",
    "    print(f\"Farklı kelime sayısı: {len(word_counts)}\")\n",
    "\n",
    "    if len(tokens) < 10000:\n",
    "        print(\"Veri seti küçük. Zipf analizi sınırlı genellenebilir.\")\n",
    "    else:\n",
    "        print(\"Veri seti yeterli büyüklükte.\")"
   ]
  },
  {
   "cell_type": "code",
   "execution_count": 11,
   "id": "b7ae320c-3565-4019-b38d-3eaf32c36ae3",
   "metadata": {},
   "outputs": [
    {
     "data": {
      "image/png": "[encoded data removed]",
      "text/plain": [
       "<Figure size 1000x600 with 1 Axes>"
      ]
     },
     "metadata": {},
     "output_type": "display_data"
    },
    {
     "name": "stdout",
     "output_type": "stream",
     "text": [
      "Toplam kelime sayısı: 13343\n",
      "Farklı kelime sayısı: 14\n",
      "Veri seti yeterli büyüklükte.\n"
     ]
    }
   ],
   "source": [
    "df = pd.read_csv(\"veri_5k.csv\", header=None, names=[\"review\"])\n",
    "zipf_analysis(df[\"review\"])"
   ]
  },
  {
   "cell_type": "code",
   "execution_count": null,
   "id": "dae2381d-c320-42a8-8ef8-c7fd6328bf87",
   "metadata": {},
   "outputs": [],
   "source": []
  }
 ],
 "metadata": {
  "kernelspec": {
   "display_name": "Python [conda env:base] *",
   "language": "python",
   "name": "conda-base-py"
  },
  "language_info": {
   "codemirror_mode": {
    "name": "ipython",
    "version": 3
   },
   "file_extension": ".py",
   "mimetype": "text/x-python",
   "name": "python",
   "nbconvert_exporter": "python",
   "pygments_lexer": "ipython3",
   "version": "3.12.7"
  }
 },
 "nbformat": 4,
 "nbformat_minor": 5
}
