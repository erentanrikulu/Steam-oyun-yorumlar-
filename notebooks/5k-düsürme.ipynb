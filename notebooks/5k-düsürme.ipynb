{
 "cells": [
  {
   "cell_type": "code",
   "execution_count": 5,
   "id": "74f5bf2d-eba8-4f3d-9cd3-b93c41955baa",
   "metadata": {},
   "outputs": [
    {
     "name": "stdout",
     "output_type": "stream",
     "text": [
      "Orijinal veri seti boyutu: 20000\n",
      "Yeni 5K'lık veri seti 'veri_5k.csv' olarak kaydedildi.\n"
     ]
    }
   ],
   "source": [
    "import pandas as pd\n",
    "\n",
    "# Verinizi okuyun (CSV, Excel, vb. olabilir)\n",
    "df = pd.read_csv(\"20k_veri.csv\")  # Dosya adını kendi dosyanızla değiştirin\n",
    "\n",
    "# Mevcut veri setinizin kaç satırdan oluştuğunu kontrol edin\n",
    "print(f\"Orijinal veri seti boyutu: {len(df)}\")\n",
    "\n",
    "# Rastgele 5000 satır örnekle (shuffle işlemi içerir)\n",
    "df_sample = df.sample(n=5000, random_state=42)  # random_state sabit tutarsanız sonuç tekrarlanabilir olur\n",
    "\n",
    "# Yeni küçültülmüş veri setini kaydet\n",
    "df_sample.to_csv(\"veri_5k.csv\", index=False)\n",
    "\n",
    "print(\"Yeni 5K'lık veri seti 'veri_5k.csv' olarak kaydedildi.\")"
   ]
  },
  {
   "cell_type": "code",
   "execution_count": null,
   "id": "00e2210b-14c0-4a07-b296-f711b799110d",
   "metadata": {},
   "outputs": [],
   "source": []
  }
 ],
 "metadata": {
  "kernelspec": {
   "display_name": "Python [conda env:base] *",
   "language": "python",
   "name": "conda-base-py"
  },
  "language_info": {
   "codemirror_mode": {
    "name": "ipython",
    "version": 3
   },
   "file_extension": ".py",
   "mimetype": "text/x-python",
   "name": "python",
   "nbconvert_exporter": "python",
   "pygments_lexer": "ipython3",
   "version": "3.12.7"
  }
 },
 "nbformat": 4,
 "nbformat_minor": 5
}
