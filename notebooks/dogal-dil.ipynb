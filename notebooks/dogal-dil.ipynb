{
 "cells": [
  {
   "cell_type": "code",
   "execution_count": 1,
   "id": "e7386fcb-37e1-4395-b2da-3603c980055b",
   "metadata": {},
   "outputs": [],
   "source": [
    "import nltk\n",
    "from nltk.tokenize import word_tokenize, sent_tokenize\n",
    "from nltk.corpus import stopwords\n",
    "from nltk.stem import WordNetLemmatizer, PorterStemmer\n",
    "import csv\n",
    "import pandas as pd\n",
    "import numpy as np\n",
    "import re"
   ]
  },
  {
   "cell_type": "code",
   "execution_count": 3,
   "id": "8b7f3a05-b650-4f95-82d5-6f87cd16ce59",
   "metadata": {},
   "outputs": [
    {
     "name": "stderr",
     "output_type": "stream",
     "text": [
      "[nltk_data] Downloading package punkt to\n",
      "[nltk_data]     C:\\Users\\eren\\AppData\\Roaming\\nltk_data...\n",
      "[nltk_data]   Package punkt is already up-to-date!\n",
      "[nltk_data] Downloading package stopwords to\n",
      "[nltk_data]     C:\\Users\\eren\\AppData\\Roaming\\nltk_data...\n",
      "[nltk_data]   Package stopwords is already up-to-date!\n",
      "[nltk_data] Downloading package wordnet to\n",
      "[nltk_data]     C:\\Users\\eren\\AppData\\Roaming\\nltk_data...\n",
      "[nltk_data]   Package wordnet is already up-to-date!\n"
     ]
    },
    {
     "data": {
      "text/plain": [
       "True"
      ]
     },
     "execution_count": 3,
     "metadata": {},
     "output_type": "execute_result"
    }
   ],
   "source": [
    " nltk.download('punkt')\n",
    " nltk.download('stopwords')\n",
    " nltk.download('wordnet')"
   ]
  },
  {
   "cell_type": "code",
   "execution_count": 5,
   "id": "b4691959-cfbb-4074-9f14-c89d97a17779",
   "metadata": {},
   "outputs": [],
   "source": [
    "yeni= pd.read_csv(\"veri_5k.csv\")"
   ]
  },
  {
   "cell_type": "code",
   "execution_count": 7,
   "id": "e62806aa-45fd-4b33-a5f9-3784e85761ee",
   "metadata": {},
   "outputs": [
    {
     "data": {
      "text/html": [
       "<div>\n",
       "<style scoped>\n",
       "    .dataframe tbody tr th:only-of-type {\n",
       "        vertical-align: middle;\n",
       "    }\n",
       "\n",
       "    .dataframe tbody tr th {\n",
       "        vertical-align: top;\n",
       "    }\n",
       "\n",
       "    .dataframe thead th {\n",
       "        text-align: right;\n",
       "    }\n",
       "</style>\n",
       "<table border=\"1\" class=\"dataframe\">\n",
       "  <thead>\n",
       "    <tr style=\"text-align: right;\">\n",
       "      <th></th>\n",
       "      <th>review</th>\n",
       "      <th>game_name</th>\n",
       "    </tr>\n",
       "  </thead>\n",
       "  <tbody>\n",
       "    <tr>\n",
       "      <th>0</th>\n",
       "      <td>2023 So Elden Ring is my first souls-like game...</td>\n",
       "      <td>ELDEN RING</td>\n",
       "    </tr>\n",
       "    <tr>\n",
       "      <th>1</th>\n",
       "      <td>Blood, Guts, Friends what more can a Guy ask f...</td>\n",
       "      <td>Warhammer 40,000: Space Marine 2</td>\n",
       "    </tr>\n",
       "    <tr>\n",
       "      <th>2</th>\n",
       "      <td>2014 One of the best game which i have ever pl...</td>\n",
       "      <td>Counter-Strike 2</td>\n",
       "    </tr>\n",
       "    <tr>\n",
       "      <th>3</th>\n",
       "      <td>FOR THE EMPEROR</td>\n",
       "      <td>Warhammer 40,000: Space Marine 2</td>\n",
       "    </tr>\n",
       "    <tr>\n",
       "      <th>4</th>\n",
       "      <td>2022 Hochland trait. Knowledgeable trait. 1000...</td>\n",
       "      <td>Total War: WARHAMMER III</td>\n",
       "    </tr>\n",
       "  </tbody>\n",
       "</table>\n",
       "</div>"
      ],
      "text/plain": [
       "                                              review  \\\n",
       "0  2023 So Elden Ring is my first souls-like game...   \n",
       "1  Blood, Guts, Friends what more can a Guy ask f...   \n",
       "2  2014 One of the best game which i have ever pl...   \n",
       "3                                    FOR THE EMPEROR   \n",
       "4  2022 Hochland trait. Knowledgeable trait. 1000...   \n",
       "\n",
       "                          game_name  \n",
       "0                        ELDEN RING  \n",
       "1  Warhammer 40,000: Space Marine 2  \n",
       "2                  Counter-Strike 2  \n",
       "3  Warhammer 40,000: Space Marine 2  \n",
       "4          Total War: WARHAMMER III  "
      ]
     },
     "execution_count": 7,
     "metadata": {},
     "output_type": "execute_result"
    }
   ],
   "source": [
    "yeni.head()"
   ]
  },
  {
   "cell_type": "code",
   "execution_count": 9,
   "id": "fb8b97c2-f20a-478a-86be-87d5fdbe9159",
   "metadata": {},
   "outputs": [
    {
     "name": "stdout",
     "output_type": "stream",
     "text": [
      "Veri Seti Bilgisi:\n",
      "<class 'pandas.core.frame.DataFrame'>\n",
      "RangeIndex: 5000 entries, 0 to 4999\n",
      "Data columns (total 2 columns):\n",
      " #   Column     Non-Null Count  Dtype \n",
      "---  ------     --------------  ----- \n",
      " 0   review     5000 non-null   object\n",
      " 1   game_name  5000 non-null   object\n",
      "dtypes: object(2)\n",
      "memory usage: 78.3+ KB\n",
      "None\n",
      "\n",
      "İlk 5 Satır:\n",
      "| review                                                                                                                                                                                                                                                                                                                                                                                                                                                                                                                                                                                                                                                                                          | game_name                        |\n",
      "|:------------------------------------------------------------------------------------------------------------------------------------------------------------------------------------------------------------------------------------------------------------------------------------------------------------------------------------------------------------------------------------------------------------------------------------------------------------------------------------------------------------------------------------------------------------------------------------------------------------------------------------------------------------------------------------------------|:---------------------------------|\n",
      "| 2023 So Elden Ring is my first souls-like game that i have ever gotten 100% achievements...AND IT WAS AMAZING!!! this is the best game i have ever played and i loved every minute of playing it! the story the world the characters I LOVED ALL OF IT! i felt like a kid in a candyshop except the storeowner and everyone in the shop is trying to kill me as i keep dodging them trying to steal candy for myself giggling wildly to myself as i have gone mad from being touched by a giant burned and smoldering hand that only has three fingers, but hey at least i get some awesome looking eyes! so yeah i can't wait for the dlc to come out! this game get's a golden 10/10 from me! | ELDEN RING                       |\n",
      "| Blood, Guts, Friends what more can a Guy ask for Really.                                                                                                                                                                                                                                                                                                                                                                                                                                                                                                                                                                                                                                        | Warhammer 40,000: Space Marine 2 |\n",
      "| 2014 One of the best game which i have ever played :'D                                                                                                                                                                                                                                                                                                                                                                                                                                                                                                                                                                                                                                          | Counter-Strike 2                 |\n",
      "| FOR THE EMPEROR                                                                                                                                                                                                                                                                                                                                                                                                                                                                                                                                                                                                                                                                                 | Warhammer 40,000: Space Marine 2 |\n",
      "| 2022 Hochland trait. Knowledgeable trait. 1000 other mechanics that used to be good but are now completely worthless. Did you know that this is a single player game and mildly overpowered mechanics that take a lot of work to take advantage of should be allowed?Also I understand there's a multiplayer community, and their gamemode should feel balanced. But stop bringing this overly balanced approached to single player, it's unfun.P.S. I don't care about conquest mode or any of the other multiplayer stuff that keeps getting added. I don't understand the obsession with trying to shoehorn coop into this game when it's not even done well.                                | Total War: WARHAMMER III         |\n",
      "\n",
      "Eksik Veri Sayısı:\n",
      "review       0\n",
      "game_name    0\n",
      "dtype: int64\n"
     ]
    }
   ],
   "source": [
    "#veri setini yükle\n",
    "df = pd.read_csv(\"veri_5k.csv\")\n",
    "\n",
    "# Veri setini incele\n",
    "print(\"Veri Seti Bilgisi:\")\n",
    "print(df.info())\n",
    "\n",
    "print(\"\\nİlk 5 Satır:\")\n",
    "print(df.head().to_markdown(index=False, numalign=\"left\", stralign=\"left\"))\n",
    "\n",
    "print(\"\\nEksik Veri Sayısı:\")\n",
    "print(df.isnull().sum())"
   ]
  },
  {
   "cell_type": "code",
   "execution_count": 15,
   "id": "e3181f87-9603-4124-941f-02deda2b9697",
   "metadata": {},
   "outputs": [],
   "source": [
    "def stem_text(review):\n",
    "  # Küçük harfe çevirme\n",
    "  text = text.lower()\n",
    "  # Noktalama işaretlerini kaldırma\n",
    "  text = re.sub(r'[^\\w\\s]', '', text)"
   ]
  },
  {
   "cell_type": "code",
   "execution_count": 23,
   "id": "9ea2d913-561c-488b-a609-4f23bd0b5942",
   "metadata": {},
   "outputs": [
    {
     "name": "stdout",
     "output_type": "stream",
     "text": [
      "['2023 So Elden Ring is my first souls-like game that i have ever gotten 100% achievements...AND IT WAS AMAZING!!!', 'this is the best game i have ever played and i loved every minute of playing it!', 'the story the world the characters I LOVED ALL OF IT!', 'i felt like a kid in a candyshop except the storeowner and everyone in the shop is trying to kill me as i keep dodging them trying to steal candy for myself giggling wildly to myself as i have gone mad from being touched by a giant burned and smoldering hand that only has three fingers, but hey at least i get some awesome looking eyes!', \"so yeah i can't wait for the dlc to come out!\", \"this game get's a golden 10/10 from me!\", 'Blood, Guts, Friends what more can a Guy ask for Really.', \"2014 One of the best game which i have ever played :'D FOR THE EMPEROR 2022 Hochland trait.\", 'Knowledgeable trait.', '1000 other mechanics that used to be good but are now completely worthless.']\n"
     ]
    }
   ],
   "source": [
    "# Varsayalım ki DataFrame'iniz df ve yorumlar 'review' sütununda\n",
    "text = ' '.join(df['review'].astype(str).tolist())  # Tüm yorumları tek bir metin haline getir\n",
    "sentences = sent_tokenize(text)  # Metni cümlelere ayır\n",
    "print(sentences[:10])  # İlk 10 cümleyi yazdır"
   ]
  },
  {
   "cell_type": "code",
   "execution_count": 25,
   "id": "20c8bcef-bb72-42ed-b4ec-f8f081c5768d",
   "metadata": {},
   "outputs": [
    {
     "name": "stdout",
     "output_type": "stream",
     "text": [
      "['the', 'is', 'needn', 'shouldn', 'by', 'up', 'there', \"you're\", 'into', \"we'd\", 'any', 'between', \"it'll\", 'mightn', 'do', 'where', 's', 'yourselves', \"he'd\", 'been', 'while', 'at', 'have', 'mustn', 'before', 'theirs', 'but', 'other', 're', \"you've\", 'couldn', 'when', \"won't\", 'from', 'does', 'weren', 'doesn', 'haven', 'such', 'hadn', 'than', \"couldn't\", 'we', \"they'd\", 'an', 'as', 'own', \"wasn't\", 'should', 'are']\n"
     ]
    }
   ],
   "source": [
    "# Stopwords listesini almak\n",
    "stop_words = set(stopwords.words('english')) # Stopwords listesini turkce almak icin: turkish\n",
    "stop_words_list = list(stop_words)\n",
    "print(stop_words_list[:50])"
   ]
  },
  {
   "cell_type": "code",
   "execution_count": 27,
   "id": "7c30ea49-7da3-408b-bfa9-fa578b39e3d0",
   "metadata": {},
   "outputs": [],
   "source": [
    "# Lemmatizer ve Stemmer'ı başlat\n",
    "lemmatizer = WordNetLemmatizer()\n",
    "stemmer = PorterStemmer()"
   ]
  },
  {
   "cell_type": "code",
   "execution_count": 29,
   "id": "deb73e97-46de-4311-a9b5-dd7783188a6e",
   "metadata": {},
   "outputs": [],
   "source": [
    "# Kelimeleri tokenleştirip, lemmatize etme ve stemleme\n",
    "def preprocess_sentence(sentence):\n",
    " tokens = word_tokenize(sentence) # Cümleyi kelimelere ayır\n",
    "# Sadece harf olan kelimeleri al ve stopword'leri çıkar\n",
    " filtered_tokens = [token.lower() for token in tokens if token.isalpha() and token.lower() not in stop_words]\n",
    " lemmatized_tokens = [lemmatizer.lemmatize(token) for token in filtered_tokens] # Lemmatize etme\n",
    " stemmed_tokens = [stemmer.stem(token) for token in filtered_tokens] # Stemleme\n",
    " return lemmatized_tokens, stemmed_tokens"
   ]
  },
  {
   "cell_type": "code",
   "execution_count": 31,
   "id": "6e82d67f-1447-435a-aa80-0a1891a6bd3d",
   "metadata": {},
   "outputs": [],
   "source": [
    "# Her cümleyi tokenleştir, lemmatize et ve stemle\n",
    "tokenized_corpus_lemmatized = []\n",
    "tokenized_corpus_stemmed = []"
   ]
  },
  {
   "cell_type": "code",
   "execution_count": 33,
   "id": "9ea6ef4d-85c5-427e-a751-46affd3a01e6",
   "metadata": {},
   "outputs": [],
   "source": [
    "for sentence in sentences:\n",
    " lemmatized_tokens, stemmed_tokens = preprocess_sentence(sentence)\n",
    " tokenized_corpus_lemmatized.append(lemmatized_tokens)\n",
    " tokenized_corpus_stemmed.append(stemmed_tokens)"
   ]
  },
  {
   "cell_type": "code",
   "execution_count": 34,
   "id": "acc89e60-0db1-486e-b56a-950e23dad1d7",
   "metadata": {},
   "outputs": [],
   "source": [
    "# lemmatize edılmıs cumlelerı bır csv dosyasına kaydedın.\n",
    "with open(\"lemmatized_sentences.csv\", mode=\"w\", newline=\"\", encoding=\"utf-8\") as file:\n",
    " writer = csv.writer(file)\n",
    "# Her cümleyi bir satır olarak yaz\n",
    " for tokens in tokenized_corpus_lemmatized:\n",
    "  writer.writerow([' '.join(tokens)])"
   ]
  },
  {
   "cell_type": "code",
   "execution_count": 37,
   "id": "8b6bafa7-025f-4ece-8eac-bb714334278d",
   "metadata": {},
   "outputs": [],
   "source": [
    "# Stem edılmıs cumlelerı bır csv dosyasına kaydedın.\n",
    "\n",
    "\n",
    "with open(\"stemmed_sentences.csv\", mode=\"w\", newline=\"\", encoding=\"utf-8\") as file:\n",
    "    writer = csv.writer(file)\n",
    "    # Her cümleyi bir satır olarak yaz\n",
    "    for tokens in tokenized_corpus_stemmed:\n",
    "        writer.writerow([' '.join(tokens)])"
   ]
  },
  {
   "cell_type": "code",
   "execution_count": 39,
   "id": "31a5877f-3c21-458e-9bac-758123dd793e",
   "metadata": {},
   "outputs": [
    {
     "name": "stdout",
     "output_type": "stream",
     "text": [
      "Cümle 1 - Base: 2023 So Elden Ring is my first souls-like game that i have ever gotten 100% achievements...AND IT WAS AMAZING!!!\n",
      "Cümle 1 - Lemmatized: ['elden', 'ring', 'first', 'game', 'ever', 'gotten', 'achievement', 'amazing']\n",
      "Cümle 1 - Stemmed: ['elden', 'ring', 'first', 'game', 'ever', 'gotten', 'achiev', 'amaz']\n",
      "\n",
      "\n",
      "Cümle 2 - Base: this is the best game i have ever played and i loved every minute of playing it!\n",
      "Cümle 2 - Lemmatized: ['best', 'game', 'ever', 'played', 'loved', 'every', 'minute', 'playing']\n",
      "Cümle 2 - Stemmed: ['best', 'game', 'ever', 'play', 'love', 'everi', 'minut', 'play']\n",
      "\n",
      "\n",
      "Cümle 3 - Base: the story the world the characters I LOVED ALL OF IT!\n",
      "Cümle 3 - Lemmatized: ['story', 'world', 'character', 'loved']\n",
      "Cümle 3 - Stemmed: ['stori', 'world', 'charact', 'love']\n",
      "\n",
      "\n",
      "Cümle 4 - Base: i felt like a kid in a candyshop except the storeowner and everyone in the shop is trying to kill me as i keep dodging them trying to steal candy for myself giggling wildly to myself as i have gone mad from being touched by a giant burned and smoldering hand that only has three fingers, but hey at least i get some awesome looking eyes!\n",
      "Cümle 4 - Lemmatized: ['felt', 'like', 'kid', 'candyshop', 'except', 'storeowner', 'everyone', 'shop', 'trying', 'kill', 'keep', 'dodging', 'trying', 'steal', 'candy', 'giggling', 'wildly', 'gone', 'mad', 'touched', 'giant', 'burned', 'smoldering', 'hand', 'three', 'finger', 'hey', 'least', 'get', 'awesome', 'looking', 'eye']\n",
      "Cümle 4 - Stemmed: ['felt', 'like', 'kid', 'candyshop', 'except', 'storeown', 'everyon', 'shop', 'tri', 'kill', 'keep', 'dodg', 'tri', 'steal', 'candi', 'giggl', 'wildli', 'gone', 'mad', 'touch', 'giant', 'burn', 'smolder', 'hand', 'three', 'finger', 'hey', 'least', 'get', 'awesom', 'look', 'eye']\n",
      "\n",
      "\n",
      "Cümle 5 - Base: so yeah i can't wait for the dlc to come out!\n",
      "Cümle 5 - Lemmatized: ['yeah', 'ca', 'wait', 'dlc', 'come']\n",
      "Cümle 5 - Stemmed: ['yeah', 'ca', 'wait', 'dlc', 'come']\n",
      "\n",
      "\n"
     ]
    }
   ],
   "source": [
    " # İlk 5 cümleyi yazdıralım\n",
    "for i in range(5):\n",
    "    print(f\"Cümle {i+1} - Base: {sentences[i]}\")\n",
    "    print(f\"Cümle {i+1} - Lemmatized: {tokenized_corpus_lemmatized[i]}\")\n",
    "    print(f\"Cümle {i+1} - Stemmed: {tokenized_corpus_stemmed[i]}\")\n",
    "    print(\"\\n\")"
   ]
  },
  {
   "cell_type": "code",
   "execution_count": null,
   "id": "ccf68412-40e6-4ca6-9f00-17afd8fb2b16",
   "metadata": {},
   "outputs": [],
   "source": []
  }
 ],
 "metadata": {
  "kernelspec": {
   "display_name": "Python [conda env:base] *",
   "language": "python",
   "name": "conda-base-py"
  },
  "language_info": {
   "codemirror_mode": {
    "name": "ipython",
    "version": 3
   },
   "file_extension": ".py",
   "mimetype": "text/x-python",
   "name": "python",
   "nbconvert_exporter": "python",
   "pygments_lexer": "ipython3",
   "version": "3.12.7"
  }
 },
 "nbformat": 4,
 "nbformat_minor": 5
}
