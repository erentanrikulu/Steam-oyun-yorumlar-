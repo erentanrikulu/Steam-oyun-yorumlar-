{
 "cells": [
  {
   "cell_type": "code",
   "execution_count": 1,
   "id": "4330b013-7aff-404b-af6b-a302984b7fa0",
   "metadata": {},
   "outputs": [],
   "source": [
    "import gensim\n",
    "from gensim.models import Word2Vec\n",
    "import pandas as pd\n",
    "import re\n",
    "\n",
    "import nltk\n",
    "from nltk.tokenize import word_tokenize, sent_tokenize\n",
    "from nltk.corpus import stopwords\n",
    "from nltk.stem import WordNetLemmatizer, PorterStemmer"
   ]
  },
  {
   "cell_type": "code",
   "execution_count": 3,
   "id": "60470268-c423-4d39-b114-267c363dfc7d",
   "metadata": {},
   "outputs": [],
   "source": [
    "parameters = [\n",
    "    {'model_type': 'cbow', 'window': 2, 'vector_size': 100},\n",
    "    {'model_type': 'skipgram', 'window': 2, 'vector_size': 100},\n",
    "    {'model_type': 'cbow', 'window': 4, 'vector_size': 100},\n",
    "    {'model_type': 'skipgram', 'window': 4, 'vector_size': 100},\n",
    "    {'model_type': 'cbow', 'window': 2, 'vector_size': 300},\n",
    "    {'model_type': 'skipgram', 'window': 2, 'vector_size': 300},\n",
    "    {'model_type': 'cbow', 'window': 4, 'vector_size': 300},\n",
    "    {'model_type': 'skipgram', 'window': 4, 'vector_size': 300}\n",
    "]"
   ]
  },
  {
   "cell_type": "code",
   "execution_count": 5,
   "id": "429ce2a0-38ec-4069-97be-f7bcfda82244",
   "metadata": {},
   "outputs": [],
   "source": [
    "df1 = pd.read_csv(\"lemmatized_sentences.csv\")\n",
    "df2 = pd.read_csv(\"stemmed_sentences.csv\")"
   ]
  },
  {
   "cell_type": "code",
   "execution_count": 7,
   "id": "74c4480e-c326-4706-be79-f40fdfd0d802",
   "metadata": {},
   "outputs": [],
   "source": [
    "df1.columns = [\"0\"]\n",
    "\n",
    "# NaN değerleri ve boş stringleri temizle\n",
    "df1 = df1.dropna()\n",
    "df1 = df1[df1[\"0\"].str.strip() != \"\"]\n",
    "\n",
    "df2.columns = [\"0\"]\n",
    "\n",
    "# NaN değerleri ve boş stringleri temizle\n",
    "df2 = df2.dropna()\n",
    "df2 = df2[df2[\"0\"].str.strip() != \"\"]"
   ]
  },
  {
   "cell_type": "code",
   "execution_count": 9,
   "id": "d8ee96c5-f717-43e2-a05c-fea34af68a54",
   "metadata": {},
   "outputs": [],
   "source": [
    "# Doğru tokenizasyon fonksiyonu\n",
    "def proper_tokenize(text):\n",
    "    # Özel karakterleri kaldır ve küçük harfe çevir\n",
    "    text = re.sub(r'[^a-zA-ZğüşıöçĞÜŞİÖÇ\\s]', '', text.lower())\n",
    "    # NLTK ile tokenize et\n",
    "    tokens = word_tokenize(text)\n",
    "    # Stopwords'leri ve tek karakterli kelimeleri kaldır\n",
    "    stop_words = set(stopwords.words('english'))\n",
    "    return [word for word in tokens if word not in stop_words and len(word) > 1]"
   ]
  },
  {
   "cell_type": "code",
   "execution_count": 11,
   "id": "b5736edf-c911-4b69-8d1f-00cdc70444fa",
   "metadata": {},
   "outputs": [],
   "source": [
    "# Doğru tokenizasyon uygula\n",
    "df1['tokens'] = df1['0'].apply(proper_tokenize)\n",
    "df2['tokens'] = df2['0'].apply(proper_tokenize)"
   ]
  },
  {
   "cell_type": "code",
   "execution_count": 12,
   "id": "ac09e2af-946e-4968-a0dd-5a0ccba99b32",
   "metadata": {},
   "outputs": [],
   "source": [
    "# Token listelerini oluştur\n",
    "tokenized_corpus_lemmatized = df1['tokens'].tolist()\n",
    "tokenized_corpus_stemmed = df2['tokens'].tolist()"
   ]
  },
  {
   "cell_type": "code",
   "execution_count": 15,
   "id": "6edcbcee-c851-4f89-bdcb-20b7940098db",
   "metadata": {},
   "outputs": [],
   "source": [
    "def train_and_save_model(corpus, param, model_prefix):\n",
    "    model_type = param['model_type']\n",
    "    vector_size = param['vector_size']\n",
    "    window = param['window']\n",
    "    \n",
    "    # CBOW (sg=0) veya Skip-gram (sg=1)\n",
    "    sg = 0 if model_type == 'cbow' else 1\n",
    "\n",
    "    model = Word2Vec(\n",
    "        sentences=corpus,\n",
    "        vector_size=vector_size,\n",
    "        window=window,\n",
    "        min_count=1,\n",
    "        workers=4,\n",
    "        sg=sg\n",
    "    )\n",
    "\n",
    "    model_filename = f\"{model_prefix}_{model_type}_vs{vector_size}_w{window}.model\"\n",
    "    model.save(model_filename)\n",
    "    print(f\"Model saved as {model_filename}\")"
   ]
  },
  {
   "cell_type": "code",
   "execution_count": 17,
   "id": "8d43f4af-8574-4f5e-86cf-bf37156b836f",
   "metadata": {},
   "outputs": [
    {
     "name": "stdout",
     "output_type": "stream",
     "text": [
      "Model saved as lemmatized_model_cbow_vs100_w2.model\n",
      "Model saved as lemmatized_model_skipgram_vs100_w2.model\n",
      "Model saved as lemmatized_model_cbow_vs100_w4.model\n",
      "Model saved as lemmatized_model_skipgram_vs100_w4.model\n",
      "Model saved as lemmatized_model_cbow_vs300_w2.model\n",
      "Model saved as lemmatized_model_skipgram_vs300_w2.model\n",
      "Model saved as lemmatized_model_cbow_vs300_w4.model\n",
      "Model saved as lemmatized_model_skipgram_vs300_w4.model\n",
      "Model saved as stemmed_model_cbow_vs100_w2.model\n",
      "Model saved as stemmed_model_skipgram_vs100_w2.model\n",
      "Model saved as stemmed_model_cbow_vs100_w4.model\n",
      "Model saved as stemmed_model_skipgram_vs100_w4.model\n",
      "Model saved as stemmed_model_cbow_vs300_w2.model\n",
      "Model saved as stemmed_model_skipgram_vs300_w2.model\n",
      "Model saved as stemmed_model_cbow_vs300_w4.model\n",
      "Model saved as stemmed_model_skipgram_vs300_w4.model\n"
     ]
    }
   ],
   "source": [
    "# Lemmatize edilmiş corpus ile modelleri eğitme ve kaydetme\n",
    "for param in parameters:\n",
    "    train_and_save_model(tokenized_corpus_lemmatized, param, \"lemmatized_model\")\n",
    "\n",
    "# Stemlenmiş corpus ile modelleri eğitme ve kaydetme\n",
    "for param in parameters:\n",
    "    train_and_save_model(tokenized_corpus_stemmed, param, \"stemmed_model\")"
   ]
  },
  {
   "cell_type": "code",
   "execution_count": 19,
   "id": "b23422b8-79cc-4f02-836d-dcf3abecd43e",
   "metadata": {},
   "outputs": [],
   "source": [
    "# Model dosyalarını yüklemek\n",
    "model_1 = Word2Vec.load(\"lemmatized_model_cbow_vs100_w2.model\")\n",
    "model_2 = Word2Vec.load(\"lemmatized_model_cbow_vs100_w4.model\")\n",
    "model_3 = Word2Vec.load(\"lemmatized_model_cbow_vs300_w2.model\")\n",
    "model_4 = Word2Vec.load(\"lemmatized_model_cbow_vs300_w4.model\")\n",
    "model_5 = Word2Vec.load(\"lemmatized_model_skipgram_vs100_w2.model\")\n",
    "model_6 = Word2Vec.load(\"lemmatized_model_skipgram_vs100_w4.model\")\n",
    "model_7 = Word2Vec.load(\"lemmatized_model_skipgram_vs300_w2.model\")\n",
    "model_8 = Word2Vec.load(\"lemmatized_model_skipgram_vs300_w4.model\")\n",
    "model_9  = Word2Vec.load(\"stemmed_model_cbow_vs100_w2.model\")\n",
    "model_10 = Word2Vec.load(\"stemmed_model_cbow_vs100_w4.model\")\n",
    "model_11 = Word2Vec.load(\"stemmed_model_cbow_vs300_w2.model\")\n",
    "model_12 = Word2Vec.load(\"stemmed_model_cbow_vs300_w4.model\")\n",
    "model_13 = Word2Vec.load(\"stemmed_model_skipgram_vs100_w2.model\")\n",
    "model_14 = Word2Vec.load(\"stemmed_model_skipgram_vs100_w4.model\")\n",
    "model_15 = Word2Vec.load(\"stemmed_model_skipgram_vs300_w2.model\")\n",
    "model_16 = Word2Vec.load(\"stemmed_model_skipgram_vs300_w4.model\")"
   ]
  },
  {
   "cell_type": "code",
   "execution_count": 21,
   "id": "a8907e5f-de14-419a-b307-048832c2f497",
   "metadata": {},
   "outputs": [],
   "source": [
    "# 'player' kelimesi ile en benzer 3 kelimeyi ve skorlarını yazdırmak\n",
    "def print_similar_words(model, model_name):\n",
    "    similarity = model.wv.most_similar(\"player\", topn=3)\n",
    "    print(f\"\\n{model_name} Modeli - 'player' ile En Benzer 3 Kelime:\")\n",
    "    for word, score in similarity:\n",
    "        print(f\"Kelime: {word}, Benzerlik Skoru: {score}\")"
   ]
  },
  {
   "cell_type": "code",
   "execution_count": 23,
   "id": "144ee0ec-f00d-404d-a276-ce4982b5c2b1",
   "metadata": {},
   "outputs": [
    {
     "name": "stdout",
     "output_type": "stream",
     "text": [
      "\n",
      "Lemmatized CBOW Window 2 Dim 100 Modeli - 'player' ile En Benzer 3 Kelime:\n",
      "Kelime: dead, Benzerlik Skoru: 0.9950888156890869\n",
      "Kelime: impossible, Benzerlik Skoru: 0.9950594305992126\n",
      "Kelime: crafted, Benzerlik Skoru: 0.9950533509254456\n",
      "\n",
      "Stemmed Skipgram Window 4 Dim 100 Modeli - 'player' ile En Benzer 3 Kelime:\n",
      "Kelime: option, Benzerlik Skoru: 0.9980385303497314\n",
      "Kelime: little, Benzerlik Skoru: 0.998012363910675\n",
      "Kelime: target, Benzerlik Skoru: 0.9978609085083008\n",
      "\n",
      "Lemmatized Skipgram Window 2 Dim 300 Modeli - 'player' ile En Benzer 3 Kelime:\n",
      "Kelime: piece, Benzerlik Skoru: 0.9985090494155884\n",
      "Kelime: allowing, Benzerlik Skoru: 0.9982974529266357\n",
      "Kelime: tyranids, Benzerlik Skoru: 0.9982625246047974\n",
      "\n",
      "lemmatized skipgram window 4 dim 100 Modeli - 'player' ile En Benzer 3 Kelime:\n",
      "Kelime: behind, Benzerlik Skoru: 0.9989787340164185\n",
      "Kelime: interaction, Benzerlik Skoru: 0.9989418387413025\n",
      "Kelime: middle, Benzerlik Skoru: 0.998908519744873\n",
      "\n",
      "lemmatized cbow window 2 dim 300 Modeli - 'player' ile En Benzer 3 Kelime:\n",
      "Kelime: others, Benzerlik Skoru: 0.8780937790870667\n",
      "Kelime: solo, Benzerlik Skoru: 0.8669108152389526\n",
      "Kelime: little, Benzerlik Skoru: 0.8663797974586487\n",
      "\n",
      "lemmatizedskipgramwindow 2 dim300 Modeli - 'player' ile En Benzer 3 Kelime:\n",
      "Kelime: choose, Benzerlik Skoru: 0.8545270562171936\n",
      "Kelime: group, Benzerlik Skoru: 0.8491502404212952\n",
      "Kelime: allow, Benzerlik Skoru: 0.8464685678482056\n",
      "\n",
      "lemmatized_cbow_window 4_dim300 Modeli - 'player' ile En Benzer 3 Kelime:\n",
      "Kelime: literally, Benzerlik Skoru: 0.9158017039299011\n",
      "Kelime: whole, Benzerlik Skoru: 0.9143410325050354\n",
      "Kelime: little, Benzerlik Skoru: 0.9141845107078552\n",
      "\n",
      "lemmatized_skipgram_window4_dim300.model Modeli - 'player' ile En Benzer 3 Kelime:\n",
      "Kelime: group, Benzerlik Skoru: 0.8704542517662048\n",
      "Kelime: wipe, Benzerlik Skoru: 0.8678666353225708\n",
      "Kelime: choose, Benzerlik Skoru: 0.8634442090988159\n",
      "\n",
      "stemmed_cbow_window2_dim100 Modeli - 'player' ile En Benzer 3 Kelime:\n",
      "Kelime: option, Benzerlik Skoru: 0.992872416973114\n",
      "Kelime: limit, Benzerlik Skoru: 0.9927425980567932\n",
      "Kelime: farm, Benzerlik Skoru: 0.9925277829170227\n",
      "\n",
      "stemmed_skipgram_window2_dim100 Modeli - 'player' ile En Benzer 3 Kelime:\n",
      "Kelime: allow, Benzerlik Skoru: 0.9933838248252869\n",
      "Kelime: option, Benzerlik Skoru: 0.9918352961540222\n",
      "Kelime: corner, Benzerlik Skoru: 0.9908831715583801\n",
      "\n",
      "stemmed_cbow_window4_dim100 Modeli - 'player' ile En Benzer 3 Kelime:\n",
      "Kelime: magic, Benzerlik Skoru: 0.9959986805915833\n",
      "Kelime: option, Benzerlik Skoru: 0.9958025813102722\n",
      "Kelime: tough, Benzerlik Skoru: 0.9957698583602905\n",
      "\n",
      "stemmed_skipgram_window4_dim100 Modeli - 'player' ile En Benzer 3 Kelime:\n",
      "Kelime: hord, Benzerlik Skoru: 0.9977337121963501\n",
      "Kelime: summon, Benzerlik Skoru: 0.9976334571838379\n",
      "Kelime: option, Benzerlik Skoru: 0.9975831508636475\n",
      "\n",
      "stemmed_cbow_window2_dim300 Modeli - 'player' ile En Benzer 3 Kelime:\n",
      "Kelime: allow, Benzerlik Skoru: 0.839614748954773\n",
      "Kelime: competit, Benzerlik Skoru: 0.830193817615509\n",
      "Kelime: solo, Benzerlik Skoru: 0.829424262046814\n",
      "\n",
      "stemmed_skipgram_window2_dim300 Modeli - 'player' ile En Benzer 3 Kelime:\n",
      "Kelime: solo, Benzerlik Skoru: 0.8212807774543762\n",
      "Kelime: wipe, Benzerlik Skoru: 0.8205043077468872\n",
      "Kelime: allow, Benzerlik Skoru: 0.8195497989654541\n",
      "\n",
      "stemmed_cbow_window4_dim300 Modeli - 'player' ile En Benzer 3 Kelime:\n",
      "Kelime: match, Benzerlik Skoru: 0.8966209888458252\n",
      "Kelime: solo, Benzerlik Skoru: 0.8924193978309631\n",
      "Kelime: wipe, Benzerlik Skoru: 0.8904380798339844\n",
      "\n",
      "stemmed_skipgram_window4_dim300 Modeli - 'player' ile En Benzer 3 Kelime:\n",
      "Kelime: allow, Benzerlik Skoru: 0.8795706033706665\n",
      "Kelime: choos, Benzerlik Skoru: 0.8687236905097961\n",
      "Kelime: competit, Benzerlik Skoru: 0.8681908249855042\n"
     ]
    }
   ],
   "source": [
    "# 16 model için benzer kelimeleri yazdır\n",
    "print_similar_words(model_1, \"Lemmatized CBOW Window 2 Dim 100\")\n",
    "print_similar_words(model_2, \"Stemmed Skipgram Window 4 Dim 100\")\n",
    "print_similar_words(model_3, \"Lemmatized Skipgram Window 2 Dim 300\")\n",
    "print_similar_words(model_4, \"lemmatized skipgram window 4 dim 100\")\n",
    "print_similar_words(model_5, \"lemmatized cbow window 2 dim 300\")\n",
    "print_similar_words(model_6, \"lemmatizedskipgramwindow 2 dim300\")\n",
    "print_similar_words(model_7, \"lemmatized_cbow_window 4_dim300\")\n",
    "print_similar_words(model_8, \"lemmatized_skipgram_window4_dim300.model\")\n",
    "print_similar_words(model_9, \"stemmed_cbow_window2_dim100\")\n",
    "print_similar_words(model_10, \"stemmed_skipgram_window2_dim100\")\n",
    "print_similar_words(model_11, \"stemmed_cbow_window4_dim100\")\n",
    "print_similar_words(model_12, \"stemmed_skipgram_window4_dim100\")\n",
    "print_similar_words(model_13, \"stemmed_cbow_window2_dim300\")\n",
    "print_similar_words(model_14, \"stemmed_skipgram_window2_dim300\")\n",
    "print_similar_words(model_15, \"stemmed_cbow_window4_dim300\")\n",
    "print_similar_words(model_16, \"stemmed_skipgram_window4_dim300\")"
   ]
  },
  {
   "cell_type": "code",
   "execution_count": 25,
   "id": "295b6879-6982-41e2-8484-e13094ad33aa",
   "metadata": {},
   "outputs": [
    {
     "name": "stdout",
     "output_type": "stream",
     "text": [
      "En sık kullanılan 20 kelime: [('game', 8838), ('like', 1981), ('get', 1510), ('time', 1339), ('play', 1305), ('good', 1227), ('one', 1197), ('even', 1073), ('feel', 975), ('fun', 933), ('really', 887), ('make', 865), ('ca', 852), ('player', 852), ('new', 839), ('still', 822), ('dlc', 746), ('would', 733), ('much', 715), ('also', 714)]\n"
     ]
    }
   ],
   "source": [
    "# Veri setinizde en sık geçen 20 kelime\n",
    "from collections import Counter\n",
    "all_words = [word for sentence in tokenized_corpus_lemmatized for word in sentence]\n",
    "print(\"En sık kullanılan 20 kelime:\", Counter(all_words).most_common(20))"
   ]
  },
  {
   "cell_type": "code",
   "execution_count": null,
   "id": "7f61e2f4-7c4c-4201-844b-ab660f01d394",
   "metadata": {},
   "outputs": [],
   "source": []
  }
 ],
 "metadata": {
  "kernelspec": {
   "display_name": "Python [conda env:base] *",
   "language": "python",
   "name": "conda-base-py"
  },
  "language_info": {
   "codemirror_mode": {
    "name": "ipython",
    "version": 3
   },
   "file_extension": ".py",
   "mimetype": "text/x-python",
   "name": "python",
   "nbconvert_exporter": "python",
   "pygments_lexer": "ipython3",
   "version": "3.12.7"
  }
 },
 "nbformat": 4,
 "nbformat_minor": 5
}
